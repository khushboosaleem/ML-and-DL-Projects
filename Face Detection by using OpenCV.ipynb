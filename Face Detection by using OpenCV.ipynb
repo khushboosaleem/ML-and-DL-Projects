{
 "cells": [
  {
   "cell_type": "markdown",
   "id": "a3fe4b41",
   "metadata": {},
   "source": [
    "### ***Install OpenCv libraray***"
   ]
  },
  {
   "cell_type": "code",
   "execution_count": 1,
   "id": "89b62f4b",
   "metadata": {},
   "outputs": [
    {
     "name": "stdout",
     "output_type": "stream",
     "text": [
      "Requirement already satisfied: opencv-python in c:\\users\\khuboo\\anaconda3\\lib\\site-packages (4.8.0.76)\n",
      "Requirement already satisfied: numpy>=1.17.0 in c:\\users\\khuboo\\anaconda3\\lib\\site-packages (from opencv-python) (1.20.0)\n"
     ]
    }
   ],
   "source": [
    "!pip install opencv-python"
   ]
  },
  {
   "cell_type": "markdown",
   "id": "c79eb83d",
   "metadata": {},
   "source": [
    "### ***Import OpenCv libraray***"
   ]
  },
  {
   "cell_type": "code",
   "execution_count": 2,
   "id": "f836192b",
   "metadata": {},
   "outputs": [],
   "source": [
    "import cv2"
   ]
  },
  {
   "cell_type": "code",
   "execution_count": null,
   "id": "3bf82bb8",
   "metadata": {},
   "outputs": [],
   "source": [
    "# Video camera enable function"
   ]
  },
  {
   "cell_type": "code",
   "execution_count": 4,
   "id": "6c779bc2",
   "metadata": {},
   "outputs": [
    {
     "data": {
      "text/plain": [
       "< cv2.VideoCapture 00000257ED21AD30>"
      ]
     },
     "execution_count": 4,
     "metadata": {},
     "output_type": "execute_result"
    }
   ],
   "source": [
    "# video_cap = cv2.VideoCapture(0)\n",
    "# while True:\n",
    "#     ret, video_data = video_cap.read()\n",
    "#     cv2.imshow(\"video_live\", video_data)\n",
    "#     if cv2.waitKey(10) == ord('a'):\n",
    "#         break\n",
    "# video_cap"
   ]
  },
  {
   "cell_type": "code",
   "execution_count": null,
   "id": "0ba9ff34",
   "metadata": {},
   "outputs": [],
   "source": [
    "# Face detection"
   ]
  },
  {
   "cell_type": "code",
   "execution_count": 6,
   "id": "b508dc02",
   "metadata": {},
   "outputs": [
    {
     "data": {
      "text/plain": [
       "< cv2.VideoCapture 00000257ED21AF10>"
      ]
     },
     "execution_count": 6,
     "metadata": {},
     "output_type": "execute_result"
    }
   ],
   "source": [
    "# Casecade... detect nose eyes face etc # body part selection\n",
    "face_cap = cv2.CascadeClassifier(\"C:/Users/khuboo/anaconda3/Lib/site-packages/cv2/data/haarcascade_frontalface_default.xml\")\n",
    "\n",
    "video_cap = cv2.VideoCapture(0)\n",
    "while True:\n",
    "    ret, video_data = video_cap.read()  # Capture video\n",
    "    col = cv2.cvtColor(video_data, cv2.COLOR_BGR2GRAY) # Convert video black and white scale\n",
    "    faces = face_cap.detectMultiScale(\n",
    "        col,\n",
    "        scaleFactor=1.1,\n",
    "        minNeighbors=5,\n",
    "        minSize=(30,30),\n",
    "        flags=cv2.CASCADE_SCALE_IMAGE\n",
    "    )\n",
    "    # Create box by using for loop\n",
    "    for (x,y,w,h) in faces:\n",
    "        cv2.rectangle(video_data, (x,y), (x+w, y+h), (0,255,0),2) # width =2\n",
    "    cv2.imshow(\"video_live\", video_data)\n",
    "    if cv2.waitKey(10) == ord('a'):\n",
    "        breaka\n",
    "video_cap"
   ]
  },
  {
   "cell_type": "code",
   "execution_count": null,
   "id": "e4d0a42d",
   "metadata": {},
   "outputs": [],
   "source": []
  },
  {
   "cell_type": "code",
   "execution_count": null,
   "id": "97c3266c",
   "metadata": {},
   "outputs": [],
   "source": []
  },
  {
   "cell_type": "code",
   "execution_count": null,
   "id": "59b4a9e1",
   "metadata": {},
   "outputs": [],
   "source": []
  },
  {
   "cell_type": "code",
   "execution_count": null,
   "id": "33eb343a",
   "metadata": {},
   "outputs": [],
   "source": []
  },
  {
   "cell_type": "code",
   "execution_count": null,
   "id": "0df82b4c",
   "metadata": {},
   "outputs": [],
   "source": []
  },
  {
   "cell_type": "code",
   "execution_count": null,
   "id": "b0fe70ff",
   "metadata": {},
   "outputs": [],
   "source": []
  },
  {
   "cell_type": "code",
   "execution_count": null,
   "id": "5340d5dd",
   "metadata": {},
   "outputs": [],
   "source": []
  },
  {
   "cell_type": "code",
   "execution_count": null,
   "id": "ad0f2dd7",
   "metadata": {},
   "outputs": [],
   "source": []
  },
  {
   "cell_type": "code",
   "execution_count": null,
   "id": "6c274ea1",
   "metadata": {},
   "outputs": [],
   "source": []
  },
  {
   "cell_type": "code",
   "execution_count": null,
   "id": "6a4dfaa0",
   "metadata": {},
   "outputs": [],
   "source": []
  },
  {
   "cell_type": "code",
   "execution_count": null,
   "id": "83058d35",
   "metadata": {},
   "outputs": [],
   "source": []
  },
  {
   "cell_type": "code",
   "execution_count": null,
   "id": "c1b4c614",
   "metadata": {},
   "outputs": [],
   "source": []
  },
  {
   "cell_type": "code",
   "execution_count": null,
   "id": "0ffc3246",
   "metadata": {},
   "outputs": [],
   "source": []
  }
 ],
 "metadata": {
  "kernelspec": {
   "display_name": "Python 3 (ipykernel)",
   "language": "python",
   "name": "python3"
  },
  "language_info": {
   "codemirror_mode": {
    "name": "ipython",
    "version": 3
   },
   "file_extension": ".py",
   "mimetype": "text/x-python",
   "name": "python",
   "nbconvert_exporter": "python",
   "pygments_lexer": "ipython3",
   "version": "3.9.12"
  }
 },
 "nbformat": 4,
 "nbformat_minor": 5
}
